{
 "cells": [
  {
   "cell_type": "code",
   "execution_count": 14,
   "id": "c584911f",
   "metadata": {},
   "outputs": [
    {
     "name": "stdout",
     "output_type": "stream",
     "text": [
      "     Unnamed: 0   latitude   longitude disc_clean_date  date_time  \\\n",
      "0           159  39.965000 -122.318056       8/22/1998 1998-08-22   \n",
      "1           192  40.228611 -120.671389       6/27/2006 2006-06-27   \n",
      "2           308  39.951177 -122.200397       5/25/2014 2014-05-25   \n",
      "3           419  39.936181 -122.093450       8/27/2004 2004-08-27   \n",
      "4           453  40.121944 -122.583889       6/18/1996 1996-06-18   \n",
      "..          ...        ...         ...             ...        ...   \n",
      "672       55066  40.343056 -123.383056       7/31/2015 2015-07-31   \n",
      "673       55067  40.609722 -123.559444       7/30/2015 2015-07-30   \n",
      "674       55070  40.680000 -123.416667       7/30/2015 2015-07-30   \n",
      "675       55196  39.911940 -122.493060       7/29/2015 2015-07-29   \n",
      "676       55199  40.963600 -120.114200        8/3/2015 2015-08-03   \n",
      "\n",
      "    date_time_ofset  \n",
      "0        1998-06-23  \n",
      "1        2006-04-28  \n",
      "2        2014-03-26  \n",
      "3        2004-06-28  \n",
      "4        1996-04-19  \n",
      "..              ...  \n",
      "672      2015-06-01  \n",
      "673      2015-05-31  \n",
      "674      2015-05-31  \n",
      "675      2015-05-30  \n",
      "676      2015-06-04  \n",
      "\n",
      "[677 rows x 6 columns]\n"
     ]
    }
   ],
   "source": [
    "import datetime\n",
    "import pandas as pd\n",
    "weather_df = pd.read_csv('Weather.csv')\n",
    "weather_df['new_dates'] = pd.to_datetime(wildfire_df['disc_clean_date'])\n",
    "dates = weather_df['new_dates'].tolist()\n",
    "wildfire_df = pd.read_csv('Wildfire_data.csv')\n",
    "wildfire_df['date_time']=pd.to_datetime(wildfire_df['disc_clean_date'])\n",
    "wildfire_df['date_time_ofset'] = wildfire_df['date_time'] - datetime.timedelta(days=60)\n",
    "print(wildfire_df)"
   ]
  },
  {
   "cell_type": "code",
   "execution_count": null,
   "id": "e22fa452",
   "metadata": {},
   "outputs": [],
   "source": []
  }
 ],
 "metadata": {
  "kernelspec": {
   "display_name": "Python 3 (ipykernel)",
   "language": "python",
   "name": "python3"
  },
  "language_info": {
   "codemirror_mode": {
    "name": "ipython",
    "version": 3
   },
   "file_extension": ".py",
   "mimetype": "text/x-python",
   "name": "python",
   "nbconvert_exporter": "python",
   "pygments_lexer": "ipython3",
   "version": "3.9.12"
  }
 },
 "nbformat": 4,
 "nbformat_minor": 5
}
